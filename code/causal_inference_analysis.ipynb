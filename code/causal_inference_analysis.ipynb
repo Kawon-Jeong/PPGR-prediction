{
 "cells": [
  {
   "cell_type": "code",
   "execution_count": null,
   "id": "4451633a-f803-4699-bcad-c34169417e7c",
   "metadata": {},
   "outputs": [],
   "source": [
    "import os,sys\n",
    "%matplotlib inline\n",
    "import random\n",
    "import pandas as pd\n",
    "import numpy as np\n",
    "import pingouin\n",
    "from itertools import cycle, islice\n",
    "from pingouin import mediation_analysis\n",
    "import matplotlib\n",
    "import matplotlib.pyplot as plt\n",
    "import seaborn as sns\n",
    "from random import randint\n",
    "from statannot import add_stat_annotation\n",
    "from statsmodels.tools import add_constant\n",
    "from statsmodels.regression.linear_model import OLS\n",
    "from sklearn.preprocessing import MinMaxScaler,StandardScaler\n",
    "from scipy import stats \n",
    "import networkx as nx\n",
    "\n",
    "import warnings\n",
    "warnings.filterwarnings(action='ignore')\n",
    "\n",
    "print(matplotlib.__version__)\n",
    "print(sns.__version__)\n",
    "print(pingouin.__version__)"
   ]
  },
  {
   "cell_type": "markdown",
   "id": "f1a0045e-affd-41c8-9eff-90f2d247c00c",
   "metadata": {},
   "source": [
    "# Data import"
   ]
  },
  {
   "cell_type": "code",
   "execution_count": null,
   "id": "c1e69b9f-1318-4524-be77-f2228d7c54ac",
   "metadata": {},
   "outputs": [],
   "source": [
    "PPGR_meal_merged = pd.read_csv('../../data/PPGR_meal_merged_cont2.csv',index_col=0) #Merged data (meal + CGM)\n",
    "OTU_data = pd.read_csv('../../data/T2D_KBSMC_otu_norm.csv',index_col=0)             #16s microbiome data (taxonomic mapped read count profile)\n",
    "med_data = pd.read_excel('../../data/CGM Nutrition_CRF_Medication.xlsx')            #Medication usage\n",
    "clinical_data = pd.read_excel('../../data/CGM Nutrition_CRF_20230808_추가Lab.xlsx') #Clinicodemograhic data"
   ]
  },
  {
   "cell_type": "code",
   "execution_count": null,
   "id": "96c54a1a-a639-48e2-a02a-fdfad4ba3ac1",
   "metadata": {},
   "outputs": [],
   "source": [
    "# Calculating PPGR #\n",
    "CGM_post60_col =  [f\"p_{t:03d}\" for t in range(0,61,5)]\n",
    "CGM_post120_col = [f\"p_{t:03d}\" for t in range(0,121,5)]\n",
    "CGM_post240_col = [f\"p_{t:03d}\" for t in range(0,241,5)]\n",
    "\n",
    "PPGR_meal_merged[CGM_post240_col] = PPGR_meal_merged.loc[:,CGM_post240_col].interpolate(axis=1) # Fill the Nan with interpolated value\n",
    "\n",
    "G0 = PPGR_meal_merged['p_000']\n",
    "# 2h PPGR #\n",
    "iAUC_2h = [0]*len(PPGR_meal_merged)\n",
    "for i in range(1,25):\n",
    "    Gi = PPGR_meal_merged[CGM_post120_col[i]]\n",
    "    Gi_1 = PPGR_meal_merged[CGM_post120_col[i-1]]\n",
    "    Si = ((Gi-G0)+(Gi_1-G0))/2\n",
    "    iAUC_2h+=Si*5\n",
    "\n",
    "# 4h PPGR #\n",
    "iAUC_4h = [0]*len(PPGR_meal_merged)\n",
    "for i in range(1,49):\n",
    "    Gi = PPGR_meal_merged[CGM_post240_col[i]]\n",
    "    Gi_1 = PPGR_meal_merged[CGM_post240_col[i-1]]\n",
    "    Si = ((Gi-G0)+(Gi_1-G0))/2\n",
    "    iAUC_4h+=Si*5\n",
    "    \n",
    "PPGR_meal_merged['PPGR_u2'] = iAUC_2h/60\n",
    "PPGR_meal_merged['PPGR_u4'] = iAUC_4h/60"
   ]
  },
  {
   "cell_type": "code",
   "execution_count": null,
   "id": "75d9ab97-e37f-4376-8989-f3381ebaf06e",
   "metadata": {},
   "outputs": [],
   "source": [
    "PPGR_meal_merged_filt = PPGR_meal_merged.dropna(subset=['meal_m1'],axis=0)\n",
    "PPGR_meal_merged_filt = PPGR_meal_merged_filt[(PPGR_meal_merged['Energy(kcal)']<2000) & (PPGR_meal_merged['Carb(g)']<250)]\n",
    "PPGR_meal_merged_filt['Carb_root'] = PPGR_meal_merged_filt['Carb(g)']**(1/2)\n",
    "PPGR_meal_merged_filt['Carb_pro'] = PPGR_meal_merged_filt['Carb(g)']*4 / (PPGR_meal_merged_filt['Carb(g)']*4+PPGR_meal_merged_filt['Protein(g)']*4+PPGR_meal_merged_filt['Fat(g)']*9) * 100\n",
    "PPGR_meal_merged_filt['Protein_pro'] = PPGR_meal_merged_filt['Protein(g)']*4 / (PPGR_meal_merged_filt['Carb(g)']*4+PPGR_meal_merged_filt['Protein(g)']*4+PPGR_meal_merged_filt['Fat(g)']*9) * 100\n",
    "PPGR_meal_merged_filt['Fat_pro'] = PPGR_meal_merged_filt['Fat(g)']*9 / (PPGR_meal_merged_filt['Carb(g)']*4+PPGR_meal_merged_filt['Protein(g)']*4+PPGR_meal_merged_filt['Fat(g)']*9) * 100\n",
    "\n",
    "OTU_data = OTU_data.loc[:,list(np.sum(OTU_data>0) > len(OTU_data)*0.3)]\n",
    "microbiome_col = list(OTU_data.columns)\n",
    "OTU_data_bc = pd.DataFrame(stats.boxcox(OTU_data,lmbda=0.25),columns=OTU_data.columns,index=OTU_data.index)\n",
    "\n",
    "# Features\n",
    "CGM_pre30_col = [f\"m_{t:03d}\" for t in range(30,0,-5)]+['p_000']\n",
    "futureCGM_120 = [f\"p_{t:03d}\" for t in range(5,121,5)]\n",
    "meal_composition = ['Carb(g)','Protein(g)','Fat(g)','Fiber(g)']\n",
    "meal_context = ['meal_m1','prot_b6h','Time']\n",
    "cli_col = ['Age','DM_Duration','BMI','HbA1c','SBP','DBP','HDL','LDL','AST(IU/L)','ALT(IU/L)'] \n",
    "med_col = ['Basal_Ins_Dose_Unit','MFM_Dose_Total','SU_Dose_Total','DPP4i_Dose_Total','SGLT2i_Dose_Total'] \n",
    "\n",
    "# Target features (2h PPGR & 4h PPGR)\n",
    "PPGR = 'PPGR_u2'\n",
    "PPGR_4 = 'PPGR_u4'\n",
    "\n",
    "# Final dataframe\n",
    "PPGR_data =  PPGR_meal_merged_filt.dropna(subset=['PPGR_u2','PPGR_u4']+CGM_pre30_col,axis=0)\n",
    "full_data = pd.merge(PPGR_data[['ID','Dname',PPGR,PPGR_4,'Carb(g)','Meal']+CGM_pre30_col+CGM_post240_col+meal_composition+meal_context],OTU_data_bc[microbiome_col],left_on='ID',right_index=True)\n",
    "full_data = full_data.T.drop_duplicates().T\n",
    "full_data = pd.merge(full_data,med_data,how='left',on='ID')\n",
    "full_data = pd.merge(full_data,clinical_data,how='left',on='ID')\n",
    "full_data[PPGR] = full_data[PPGR].astype(float)\n",
    "full_data[PPGR_4] = full_data[PPGR_4].astype(float)\n",
    "\n",
    "samples = list(full_data['ID'].unique())\n",
    "full_data"
   ]
  },
  {
   "cell_type": "code",
   "execution_count": null,
   "id": "e2dab065-e6e8-4482-81a6-6b6eeaf97c0c",
   "metadata": {},
   "outputs": [],
   "source": [
    "evaluation_data = pd.read_csv('../..//data/validation/PPGR_meal_merged_validation.csv',index_col=0)\n",
    "evaluation_data =  evaluation_data.dropna(subset=CGM_pre30_col,axis=0)\n",
    "evaluation_data"
   ]
  },
  {
   "cell_type": "markdown",
   "id": "e840801b-3204-43a4-846c-9b33454eb985",
   "metadata": {},
   "source": [
    "# With 'pingouin' package"
   ]
  },
  {
   "cell_type": "code",
   "execution_count": null,
   "id": "5a454162-f78d-492a-a4e4-c6b9edb26fd0",
   "metadata": {},
   "outputs": [],
   "source": [
    "causal_inference_df = pd.DataFrame(columns=['X','M','b2','b3','p2','total_b','direct_b','direct_p','indirect_b','indirect_p','mediation_prop'])\n",
    "for nutrient in meal_composition:\n",
    "    for species in microbiome_col:\n",
    "        scaler = StandardScaler()\n",
    "\n",
    "        full_data[species] = scaler.fit_transform(full_data[species].astype(float).values.reshape(-1, 1))\n",
    "        full_data[nutrient] = scaler.fit_transform(full_data[nutrient].astype(float).values.reshape(-1, 1))\n",
    "\n",
    "        mediation_df = mediation_analysis(data=full_data, x=nutrient, m=species,\n",
    "                                    y='PPGR_u2', covar=None, alpha=0.05, n_boot=100, seed=2, return_dist=False, logreg_kwargs=None)\n",
    "        \n",
    "        p2 = mediation_df.loc[0,'pval']\n",
    "        b2 = mediation_df.loc[0,'coef']\n",
    "        p3 = mediation_df.loc[1,'pval']\n",
    "        b3 = mediation_df.loc[1,'coef']\n",
    "        total_b = mediation_df.loc[2,'coef']\n",
    "        direct_b = mediation_df.loc[3,'coef']\n",
    "        direct_p = mediation_df.loc[3,'pval']\n",
    "        indirect_b = mediation_df.loc[4,'coef']\n",
    "        indirect_p = mediation_df.loc[4,'pval']\n",
    "        mediation_prop = mediation_df.loc[4,'coef']/mediation_df.loc[2,'coef']\n",
    "        \n",
    "        if  (p2<0.05) and (p3<0.05) and (indirect_p<0.05):\n",
    "            res = {'b2':b2,'b3':b3,'p2':p2,'p3':p3,'total_b':total_b,\n",
    "                   'direct_b':direct_b,'direct_p':direct_p,\n",
    "                   'indirect_b':indirect_b,'indirect_p':indirect_p,\n",
    "                   'mediation_prop':mediation_prop}\n",
    "            res['X'] = nutrient\n",
    "            res['M'] = species\n",
    "            causal_inference_df = pd.concat([causal_inference_df,pd.DataFrame(res,index=[0])], ignore_index=True)"
   ]
  },
  {
   "cell_type": "code",
   "execution_count": null,
   "id": "83f6be2c-5fa3-4401-b965-351418299937",
   "metadata": {},
   "outputs": [],
   "source": [
    "causal_inference_df['M'] = ['\\n'.join(var.split(';')[-2:]) for var in causal_inference_df['M']]\n",
    "causal_inference_df"
   ]
  },
  {
   "cell_type": "markdown",
   "id": "808128a6-f013-434d-9c75-c42cbc2ccfe8",
   "metadata": {},
   "source": [
    "# Visualize network"
   ]
  },
  {
   "cell_type": "code",
   "execution_count": null,
   "id": "23be1d2e-c039-4f56-9d4b-4489fd742580",
   "metadata": {},
   "outputs": [],
   "source": [
    "G = nx.DiGraph()\n",
    "Mediators = list(causal_inference_df['M'].unique())\n",
    "for _, row in causal_inference_df.iterrows():\n",
    "    # X -> M edge\n",
    "    G.add_edge(row['X'], row['M'], p_value=row['p2'], color='red' if row['b2'] > 0 else 'blue', alpha=0.5, weight=-np.log10(row['p2']))\n",
    "    # M -> Y edge\n",
    "    G.add_edge(row['M'], 'PPGR',  p_value=row['p3'], color='red' if row['b3'] > 0 else 'blue', alpha=0.5,  weight=-np.log10(row['p3']))\n",
    "\n",
    "pos = {'Carb(g)':[-1, 3], 'Protein(g)':[-1, 1], 'Fat(g)':[-1, -1], 'Fiber(g)':[-1, -3], \n",
    "       'PPGR':[1, 0]\n",
    "      }\n",
    "for i,m in enumerate(Mediators):\n",
    "    pos[m] = [0, 5-i]\n",
    "\n",
    "edges = G.edges(data=True)\n",
    "colors = [G[u][v]['color'] for u,v,_ in edges]\n",
    "weights = [np.abs(G[u][v]['weight']) for u,v,_ in edges]\n",
    "\n",
    "plt.figure(figsize=(8, 9))\n",
    "plt.ylim(-6,6)\n",
    "plt.xlim(-1.5, 1.5)\n",
    "\n",
    "nx.draw_networkx_nodes(G, pos, node_color='white', node_size=4000,alpha=0)\n",
    "nx.draw_networkx_labels(G, pos,)\n",
    "nx.draw_networkx_edges(G, pos, arrowstyle='-|>', arrowsize=10, edge_color=colors, width=weights, \n",
    "                        min_source_margin=20,min_target_margin=40)\n",
    "\n",
    "ax = plt.gca()\n",
    "\n",
    "# Apply alpha to the arrows manually\n",
    "for i, (u, v, d) in enumerate(G.edges(data=True)):\n",
    "    arrow = ax.patches[i]\n",
    "    arrow.set_alpha(0.4)\n",
    "plt.axis('off')\n",
    "plt.tight_layout()\n",
    "plt.savefig('./figure/microbiome_causal_inference.jpeg',dpi=300)\n",
    "plt.show()"
   ]
  },
  {
   "cell_type": "code",
   "execution_count": null,
   "id": "07d2445a-4bab-44ca-90bc-b9734244e650",
   "metadata": {},
   "outputs": [],
   "source": []
  }
 ],
 "metadata": {
  "kernelspec": {
   "display_name": "Python 3 (ipykernel)",
   "language": "python",
   "name": "python3"
  },
  "language_info": {
   "codemirror_mode": {
    "name": "ipython",
    "version": 3
   },
   "file_extension": ".py",
   "mimetype": "text/x-python",
   "name": "python",
   "nbconvert_exporter": "python",
   "pygments_lexer": "ipython3",
   "version": "3.11.7"
  }
 },
 "nbformat": 4,
 "nbformat_minor": 5
}
