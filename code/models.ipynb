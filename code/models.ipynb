{
 "cells": [
  {
   "cell_type": "code",
   "execution_count": null,
   "id": "01746d24-1282-4fbb-a3ec-63cf4af99e2c",
   "metadata": {
    "tags": []
   },
   "outputs": [],
   "source": [
    "import pandas as pd\n",
    "import numpy as np\n",
    "import random\n",
    "import os\n",
    "from sklearn.linear_model import LinearRegression\n",
    "from sklearn.ensemble import RandomForestRegressor\n",
    "from sklearn.svm import SVR\n",
    "import tensorflow as tf\n",
    "from tensorflow.keras import Model, models, layers\n",
    "from tensorflow.keras.models import Sequential\n",
    "from tensorflow.keras.layers import Conv1D,Dense,Softmax,Flatten,Dropout,concatenate, Concatenate, Input, LSTM, LeakyReLU, BatchNormalization, ReLU, Normalization\n",
    "from tensorflow.keras.utils import plot_model\n",
    "from tensorflow.python.client import device_lib\n",
    "from tensorflow.keras.optimizers import Adam\n",
    "from tensorflow.keras.losses import MeanAbsoluteError, MeanSquaredError\n",
    "from tensorflow.keras.metrics import RootMeanSquaredError\n",
    "from tensorflow.keras.regularizers import l2, l1_l2\n",
    "from keras.utils.vis_utils import plot_model\n",
    "from xgboost import XGBRegressor\n",
    "import tensorflow.keras as keras\n",
    "import warnings\n",
    "warnings.filterwarnings(action='ignore')"
   ]
  },
  {
   "cell_type": "markdown",
   "id": "e18eb056-c6f9-486f-84e1-c92adb65ae6c",
   "metadata": {
    "tags": []
   },
   "source": [
    "# DNN model\n",
    "## Feature extractor"
   ]
  },
  {
   "cell_type": "code",
   "execution_count": null,
   "id": "3bc5647c-1416-488a-99fe-746fd6e7944d",
   "metadata": {},
   "outputs": [],
   "source": [
    "def attentive_encoder(input_vector,n_steps):\n",
    "    prior = tf.ones_like(input_vector)\n",
    "    steps_output = []\n",
    "    steps_masks = []\n",
    "    a_i = input_vector\n",
    "    for step in range(n_steps):\n",
    "        M = Dense(input_vector.shape[1],use_bias=False,name=f'h{step+1}')(a_i)\n",
    "        M = BatchNormalization()(M)\n",
    "        M = Softmax(name=f'mask{step+1}')(prior*M)\n",
    "        prior = prior * (1.5 - M)\n",
    "        masked_X = M * input_vector\n",
    "        out = Dense(input_vector.shape[1])(masked_X)\n",
    "        out = BatchNormalization()(out)\n",
    "        d = ReLU(name=f'ReLU_d{step+1}')(out)\n",
    "        steps_output.append(d)\n",
    "        steps_masks.append(M)\n",
    "        a_i = out\n",
    "    \n",
    "    features = tf.zeros_like(input_vector)\n",
    "    for d in steps_output:\n",
    "        features = features+d\n",
    "    return features"
   ]
  },
  {
   "cell_type": "code",
   "execution_count": null,
   "id": "182ee7cd-0065-42c9-bfda-22965cb43470",
   "metadata": {
    "tags": []
   },
   "outputs": [],
   "source": [
    "def CGM_representation(CGM_input,conv_units=6, lstm_units=8):\n",
    "    conv = Conv1D(filters=conv_units,kernel_size=2,strides=1,padding='same',name='CGM_conv')(CGM_input)\n",
    "    batchnorm = BatchNormalization()(conv)\n",
    "    leakyReLU = LeakyReLU(alpha=0.05)(batchnorm)\n",
    "    lstm = LSTM(lstm_units, return_sequences=True,name='CGM_lstm')(leakyReLU)\n",
    "    flat = Flatten()(lstm)\n",
    "    return flat\n",
    "\n",
    "def clinical_representation(clinical_input,clinical_units=10):\n",
    "    drop1 = Dropout(0.3)(clinical_input)                                # best dropout 0.5\n",
    "    dense_layer = Dense(clinical_units,name='clinical_FC')(drop1)       # best node 10\n",
    "    batchnorm = BatchNormalization()(dense_layer)\n",
    "    relu = ReLU()(batchnorm)\n",
    "    drop2 = Dropout(0.5)(relu)\n",
    "    return drop2\n",
    "\n",
    "def microbiome_representation(microbiome_input, microbiome_units=50,n_steps=3):\n",
    "    #drop1 = Dropout(0.3)(microbiome_input)                         # best dropout 0.5\n",
    "    microbiome_input = BatchNormalization()(microbiome_input)\n",
    "    att = attentive_encoder(microbiome_input,n_steps)\n",
    "    dense_layer = Dense(microbiome_units,name='microbiome_FC',kernel_regularizer=l1_l2(l1=1e-4, l2=0.001), bias_regularizer=l1_l2(l1=1e-4, l2=0.001))(att) # best node 20\n",
    "    batchnorm = BatchNormalization()(dense_layer) \n",
    "    relu = ReLU()(batchnorm)\n",
    "    drop2 = Dropout(0.5)(relu)                                   # best dropout 0.5\n",
    "    return drop2\n",
    "\n",
    "def medication_representation(medication_input, medication_units=7):\n",
    "    drop1 = Dropout(0.3)(medication_input)  \n",
    "    dense_layer = Dense(medication_units, name='medication_FC')(drop1) # best node 7\n",
    "    batchnorm = BatchNormalization()(dense_layer)\n",
    "    relu = ReLU()(batchnorm)\n",
    "    drop2 = Dropout(0.5)(relu)                                   # best dropout 0.5\n",
    "    return drop2"
   ]
  },
  {
   "cell_type": "markdown",
   "id": "f53cbb3f-4414-45e6-a488-18fb920bc013",
   "metadata": {},
   "source": [
    "## Fusion regressor"
   ]
  },
  {
   "cell_type": "code",
   "execution_count": null,
   "id": "fd60fbcd-b411-4ec7-ac5d-4960679bf3c9",
   "metadata": {},
   "outputs": [],
   "source": [
    "def fusion_regressor(concatenated_features, regression_units=60, dropout_rate=0.5):\n",
    "    dense_layer = Dense(regression_units, kernel_regularizer=l1_l2(l1=1e-6, l2=0.001), bias_regularizer=l1_l2(l1=1e-6, l2=0.001))(concatenated_features)                     # best node 40\n",
    "    batchnorm = BatchNormalization()(dense_layer)\n",
    "    relu = ReLU()(batchnorm)\n",
    "    drop = Dropout(dropout_rate)(relu)\n",
    "    \n",
    "    output_layer = Dense(1)(drop)\n",
    "    return output_layer"
   ]
  },
  {
   "cell_type": "markdown",
   "id": "7e827cff-0eb3-4ca4-97c4-d4d7dd12c8aa",
   "metadata": {},
   "source": [
    "## Full DNN model"
   ]
  },
  {
   "cell_type": "code",
   "execution_count": null,
   "id": "0faba0ae-4f85-4481-b1de-f9b4d2ff89f5",
   "metadata": {},
   "outputs": [],
   "source": [
    "def DNN(param):\n",
    "    random.seed(2)\n",
    "    np.random.seed(2)\n",
    "    tf.random.set_seed(2)\n",
    "    keras.utils.set_random_seed(2)\n",
    "\n",
    "    input_layer_cgm = Input(shape=(7, 1), name='CGM')\n",
    "    input_layer_meal_composition = Input(shape=(8,), name='Meal_composition')\n",
    "    input_layer_meal_context = Input(shape=(3,), name='Meal_context')\n",
    "    input_layer_microbiome = Input(shape=(260,), name='Microbiome')\n",
    "    input_layer_cli = Input(shape=(10,), name='Clinical')\n",
    "    input_layer_med = Input(shape=(5,), name='Medication')\n",
    "\n",
    "\n",
    "    CGM_features = CGM_representation(input_layer_cgm,6,8)\n",
    "    clinical_features = clinical_representation(input_layer_cli,10)\n",
    "    microbiome_features = microbiome_representation(input_layer_microbiome,param['microbiome_units'],param['n_steps']) \n",
    "    medication_features = medication_representation(input_layer_med,5)\n",
    "    \n",
    "    concat = concatenate([CGM_features,input_layer_meal_composition,input_layer_meal_context,clinical_features,microbiome_features,medication_features])\n",
    "    output = fusion_regressor(concat,60,param['dropout_rate']) \n",
    "\n",
    "    model = Model(inputs=[input_layer_cgm,input_layer_meal_composition,input_layer_meal_context,input_layer_microbiome,input_layer_cli,input_layer_med], outputs=output)\n",
    "\n",
    "    model.compile(optimizer = Adam(learning_rate=param['learning_rate']),loss= 'mse')\n",
    "    \n",
    "    return model"
   ]
  },
  {
   "cell_type": "markdown",
   "id": "6ba484e6-3435-4038-b4a9-4f00211cca1b",
   "metadata": {},
   "source": [
    "## Feature ablation"
   ]
  },
  {
   "cell_type": "code",
   "execution_count": null,
   "id": "a1aba2fe-be85-4e4b-9956-755bd802dfbf",
   "metadata": {},
   "outputs": [],
   "source": [
    "def DNN_ablated(param,ablated_feature):\n",
    "    random.seed(2)\n",
    "    np.random.seed(2)\n",
    "    tf.random.set_seed(2)\n",
    "    keras.utils.set_random_seed(2)\n",
    "    \n",
    "    input_layer_cgm = Input(shape=(7, 1), name='CGM')\n",
    "    input_layer_meal_composition = Input(shape=(8,), name='Meal_composition')\n",
    "    input_layer_meal_context = Input(shape=(3,), name='Meal_context')\n",
    "    input_layer_microbiome = Input(shape=(260,), name='Microbiome')\n",
    "    input_layer_cli = Input(shape=(10,), name='Clinical')\n",
    "    input_layer_med = Input(shape=(5,), name='Medication')\n",
    "\n",
    "    CGM_features = CGM_representation(input_layer_cgm,6,8)\n",
    "    clinical_features = clinical_representation(input_layer_cli,10)\n",
    "    microbiome_features = microbiome_representation(input_layer_microbiome,param['microbiome_units'],param['n_steps']) \n",
    "    medication_features = medication_representation(input_layer_med,5)\n",
    "\n",
    "    features_to_concatenate = []\n",
    "    if ablated_feature != 'CGM':\n",
    "        features_to_concatenate.append(CGM_features)\n",
    "    if ablated_feature != 'Meal_composition':\n",
    "        features_to_concatenate.append(input_layer_meal_composition)\n",
    "    if ablated_feature != 'Meal_context':\n",
    "        features_to_concatenate.append(input_layer_meal_context)\n",
    "    if ablated_feature != 'Clinical':\n",
    "        features_to_concatenate.append(clinical_features)\n",
    "    if ablated_feature != 'Microbiome':\n",
    "        features_to_concatenate.append(microbiome_features)\n",
    "    if ablated_feature != 'Medication':\n",
    "        features_to_concatenate.append(medication_features)\n",
    "    \n",
    "    concat = concatenate(features_to_concatenate)\n",
    "    output = fusion_regressor(concat,60,param['dropout_rate']) \n",
    "\n",
    "    model = Model(inputs=[input_layer_cgm,input_layer_meal_composition,input_layer_meal_context,input_layer_microbiome,input_layer_cli,input_layer_med], outputs=output)\n",
    "\n",
    "    model.compile(optimizer = Adam(learning_rate=param['learning_rate']),loss= 'mse')\n",
    "    \n",
    "    return model"
   ]
  },
  {
   "cell_type": "markdown",
   "id": "cf55da2b-69ea-44e9-b6dd-f287cc557790",
   "metadata": {},
   "source": [
    "# ML models"
   ]
  },
  {
   "cell_type": "code",
   "execution_count": null,
   "id": "a2e24914-70bb-404f-838d-c34acacaba82",
   "metadata": {},
   "outputs": [],
   "source": [
    "def XGB(param):\n",
    "    model = XGBRegressor(max_depth=param['max_depth'],\n",
    "                        n_estimator=param['n_estimators'],\n",
    "                         eta=param['learning_rate'],\n",
    "                         subsample=param['subsample'],\n",
    "                         random_state=2\n",
    "                        )\n",
    "    return model"
   ]
  },
  {
   "cell_type": "code",
   "execution_count": null,
   "id": "7cd9a1cb-bce5-410a-a332-02448cf0fa3f",
   "metadata": {},
   "outputs": [],
   "source": [
    "def RF(param):\n",
    "    model = RandomForestRegressor(max_depth=param['max_depth'],\n",
    "                                  n_estimators=param['n_estimators'],\n",
    "                                 random_state=2)\n",
    "    return model"
   ]
  },
  {
   "cell_type": "code",
   "execution_count": null,
   "id": "2fab92ee-ee81-4ed8-9c4e-866be5b9bd6f",
   "metadata": {},
   "outputs": [],
   "source": [
    "def SVM(param):\n",
    "    model = SVR(C=param['C'],\n",
    "                gamma=param['gamma'],\n",
    "                kernel=param['kernel'])\n",
    "    return model"
   ]
  },
  {
   "cell_type": "markdown",
   "id": "871e0f67-1c0f-4fe4-8345-ef28557e252a",
   "metadata": {},
   "source": [
    "# Model"
   ]
  },
  {
   "cell_type": "code",
   "execution_count": null,
   "id": "0e7e879f-06b2-4469-bad0-11bcc18f07b2",
   "metadata": {},
   "outputs": [],
   "source": [
    "def get_model(reg):\n",
    "    if reg == 'carbohydrate':\n",
    "        model = LinearRegression()\n",
    "    elif reg == 'DNN':\n",
    "        model = DNN\n",
    "    elif reg == 'XGB':\n",
    "        model = XGBRegressor()\n",
    "    elif reg == 'RF':\n",
    "        model = RandomForestRegressor()\n",
    "    elif reg =='SVM':\n",
    "        model = SVR()\n",
    "    return model"
   ]
  },
  {
   "cell_type": "code",
   "execution_count": null,
   "id": "8f3f1b82-ad95-4e99-98d6-835209e1a564",
   "metadata": {},
   "outputs": [],
   "source": []
  },
  {
   "cell_type": "code",
   "execution_count": null,
   "id": "accd39bd-75c6-44c0-931f-a6ed47129733",
   "metadata": {},
   "outputs": [],
   "source": []
  }
 ],
 "metadata": {
  "kernelspec": {
   "display_name": "Python 3 (ipykernel)",
   "language": "python",
   "name": "python3"
  },
  "language_info": {
   "codemirror_mode": {
    "name": "ipython",
    "version": 3
   },
   "file_extension": ".py",
   "mimetype": "text/x-python",
   "name": "python",
   "nbconvert_exporter": "python",
   "pygments_lexer": "ipython3",
   "version": "3.11.7"
  }
 },
 "nbformat": 4,
 "nbformat_minor": 5
}
